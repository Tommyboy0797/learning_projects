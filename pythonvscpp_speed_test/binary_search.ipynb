{
 "cells": [
  {
   "cell_type": "code",
   "execution_count": null,
   "id": "96671dc0",
   "metadata": {},
   "outputs": [
    {
     "name": "stdout",
     "output_type": "stream",
     "text": [
      "Found the value at index 0\n",
      "Execution time for 1000 runs: 0.186144 seconds\n"
     ]
    }
   ],
   "source": [
    "import timeit\n",
    "\n",
    "array = [1, 2, 3, 4, 5, 6, 7, 8, 9, 10]\n",
    "target = 8\n",
    "mid = 0\n",
    "def binary_search(array, target):\n",
    "    left = 0 \n",
    "    right = len(array) - 1\n",
    "\n",
    "    while left <= right:\n",
    "        mid = (left + right) // 2\n",
    "\n",
    "        if array[mid] == target:\n",
    "            return mid\n",
    "\n",
    "        if array[mid] < target:\n",
    "            left = mid + 1\n",
    "        else:\n",
    "            right = mid - 1\n",
    "\n",
    "    return -1\n",
    "\n",
    "# Wrapping the binary_search function in a lambda for timeit\n",
    "execution_time = timeit.timeit(lambda: binary_search(array, target), number=1000000)  # Run 1000 times\n",
    "print(f\"Found the value at index {mid}\")\n",
    "print(f\"Execution time for 1 million runs: {execution_time:.6f} seconds\")\n"
   ]
  }
 ],
 "metadata": {
  "kernelspec": {
   "display_name": "Python 3",
   "language": "python",
   "name": "python3"
  },
  "language_info": {
   "codemirror_mode": {
    "name": "ipython",
    "version": 3
   },
   "file_extension": ".py",
   "mimetype": "text/x-python",
   "name": "python",
   "nbconvert_exporter": "python",
   "pygments_lexer": "ipython3",
   "version": "3.11.9"
  }
 },
 "nbformat": 4,
 "nbformat_minor": 5
}
