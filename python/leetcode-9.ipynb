{
 "cells": [
  {
   "cell_type": "code",
   "execution_count": null,
   "id": "83e874b4",
   "metadata": {},
   "outputs": [
    {
     "name": "stdout",
     "output_type": "stream",
     "text": [
      "Number -121 is not a palidrome! It is 121- when reversed!\n"
     ]
    },
    {
     "data": {
      "text/plain": [
       "False"
      ]
     },
     "execution_count": 6,
     "metadata": {},
     "output_type": "execute_result"
    }
   ],
   "source": [
    "x = str(10) # needs to be a str, so it can be easily reversed\n",
    "\n",
    "def ispalidrome(value): # takes the number to check as a param\n",
    "    if value == value[::-1]: # if value is the same as value reversed\n",
    "        print(f\"Number: {value} is a palidrome!\") # output\n",
    "        return True\n",
    "    else: # value reversed is not equal to value\n",
    "        print(f\"Number {value} is not a palidrome! It is {value[::-1]} when reversed!\") # output\n",
    "        return False\n",
    "\n",
    "ispalidrome(x) # call\n",
    "\n",
    "# a way to improve this so it doesnt have to be set to a str, is to take the int, set it to a str, set it back to an int, then check."
   ]
  }
 ],
 "metadata": {
  "kernelspec": {
   "display_name": "Python 3",
   "language": "python",
   "name": "python3"
  },
  "language_info": {
   "codemirror_mode": {
    "name": "ipython",
    "version": 3
   },
   "file_extension": ".py",
   "mimetype": "text/x-python",
   "name": "python",
   "nbconvert_exporter": "python",
   "pygments_lexer": "ipython3",
   "version": "3.11.9"
  }
 },
 "nbformat": 4,
 "nbformat_minor": 5
}
