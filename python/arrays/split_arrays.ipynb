{
 "cells": [
  {
   "cell_type": "code",
   "execution_count": 3,
   "id": "66e5121d",
   "metadata": {},
   "outputs": [
    {
     "data": {
      "text/plain": [
       "'Left side of the array: [1, 2, 3, 4], Right side of the array: [5, 6, 7, 8, 9, 0]'"
      ]
     },
     "execution_count": 3,
     "metadata": {},
     "output_type": "execute_result"
    }
   ],
   "source": [
    "array = [1,2,3,4,5,6,7,8,9,0] # array storing the values. Just example data\n",
    "\n",
    "split_position = 4 # where we will split the array at.\n",
    "\n",
    "def array_split(pos): # function to split the array. Argument is the position (index) at which it will split.\n",
    "\n",
    "    split_array_right_side = array[pos:] # colon \":\" is right side of array, therefore will return right side\n",
    "    split_array_left_side = array[:pos] # colon \":\" is left side of array, returns left side\n",
    "\n",
    "    return(f\"Left side of the array: {split_array_left_side}, Right side of the array: {split_array_right_side}\") # return the results. Uses an \"f string\" to make the results look nicer.\n",
    "\n",
    "array_split(split_position)"
   ]
  }
 ],
 "metadata": {
  "kernelspec": {
   "display_name": "Python 3",
   "language": "python",
   "name": "python3"
  },
  "language_info": {
   "codemirror_mode": {
    "name": "ipython",
    "version": 3
   },
   "file_extension": ".py",
   "mimetype": "text/x-python",
   "name": "python",
   "nbconvert_exporter": "python",
   "pygments_lexer": "ipython3",
   "version": "3.11.9"
  }
 },
 "nbformat": 4,
 "nbformat_minor": 5
}
