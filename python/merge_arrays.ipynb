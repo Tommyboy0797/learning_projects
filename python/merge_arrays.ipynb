{
 "cells": [
  {
   "cell_type": "code",
   "execution_count": null,
   "id": "a31f2aa7",
   "metadata": {},
   "outputs": [
    {
     "data": {
      "text/plain": [
       "'First way of merging arrays, directly adding them: [1, 2, 3, 4, 5, 6, 7, 8, 9, 10], second way of merging array, extending the first array to the end of the first one: [1, 2, 3, 4, 5, 6, 7, 8, 9, 10]'"
      ]
     },
     "execution_count": 7,
     "metadata": {},
     "output_type": "execute_result"
    }
   ],
   "source": [
    "first_array = [1,2,3,4,5] # first example array\n",
    "second_array = [6,7,8,9,10] # second example array\n",
    "\n",
    "def merge_arrays(array1, array2): # function to merge arrays\n",
    "\n",
    "    merge_option_one = array1 + array2 # directly adding the 2 arrays\n",
    "\n",
    "    array1.extend(array2) # adding array 2 to the end of array 1\n",
    "\n",
    "    return (f\"First way of merging arrays, directly adding them: {merge_option_one}, second way of merging array, extending the first array to the end of the first one: {array1}\")\n",
    "\n",
    "merge_arrays(first_array, second_array)"
   ]
  }
 ],
 "metadata": {
  "kernelspec": {
   "display_name": "Python 3",
   "language": "python",
   "name": "python3"
  },
  "language_info": {
   "codemirror_mode": {
    "name": "ipython",
    "version": 3
   },
   "file_extension": ".py",
   "mimetype": "text/x-python",
   "name": "python",
   "nbconvert_exporter": "python",
   "pygments_lexer": "ipython3",
   "version": "3.11.9"
  }
 },
 "nbformat": 4,
 "nbformat_minor": 5
}
