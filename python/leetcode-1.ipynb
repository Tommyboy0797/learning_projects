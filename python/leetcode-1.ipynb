{
 "cells": [
  {
   "cell_type": "code",
   "execution_count": null,
   "id": "c3bd8864",
   "metadata": {},
   "outputs": [
    {
     "name": "stdout",
     "output_type": "stream",
     "text": [
      "1 0\n",
      "1 0\n"
     ]
    }
   ],
   "source": [
    "nums = [2,7,11,15]\n",
    "\n",
    "target = 9\n",
    "\n",
    "index = 1\n",
    "indextwo = 0\n",
    "found = False\n",
    "while found == False:\n",
    "    if nums[index] + nums[indextwo] == target:\n",
    "        print(index, indextwo)\n",
    "        found = True\n",
    "    else:\n",
    "        index += 1\n",
    "        indextwo += 1\n",
    "\n",
    "\n",
    "## ^ kinda a shit way of doing it. Doesnt check all pairs, just checks one then the other, example 2,7 ^ ##\n",
    "nums = [2,7,11,15]\n",
    "\n",
    "target = 9\n",
    "\n",
    "index = 1\n",
    "indextwo = 0\n",
    "found = False\n",
    "for j in range(len(nums)):\n",
    "    for i in range(j+1, len(nums)):\n",
    "        if nums[i] + nums[j] == target:\n",
    "            print(i,j)\n",
    "\n",
    "## ^ the better way of doing it ^ ## "
   ]
  }
 ],
 "metadata": {
  "kernelspec": {
   "display_name": "Python 3",
   "language": "python",
   "name": "python3"
  },
  "language_info": {
   "codemirror_mode": {
    "name": "ipython",
    "version": 3
   },
   "file_extension": ".py",
   "mimetype": "text/x-python",
   "name": "python",
   "nbconvert_exporter": "python",
   "pygments_lexer": "ipython3",
   "version": "3.11.9"
  }
 },
 "nbformat": 4,
 "nbformat_minor": 5
}
