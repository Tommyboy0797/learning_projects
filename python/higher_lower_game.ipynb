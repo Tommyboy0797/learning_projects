{
 "cells": [
  {
   "cell_type": "code",
   "execution_count": null,
   "id": "c39cb8d0",
   "metadata": {},
   "outputs": [
    {
     "name": "stdout",
     "output_type": "stream",
     "text": [
      "Entered number is GREATER than the number I am thinking of...\n",
      "Number has been found! Number was: 0\n"
     ]
    }
   ],
   "source": [
    "import random\n",
    "\n",
    "selected_number = random.randint(1,10) # randomly select the number, from 1 to 10\n",
    "\n",
    "number_found = False # number found condition is initally set to false\n",
    "\n",
    "while number_found is not True: # loop unless the number found condition is met \n",
    "    user_input = int(input(\"Enter number guess: \")) # get the user's guess\n",
    "\n",
    "    if user_input == selected_number: # if the users guess is actually the selected number then:\n",
    "        print((f\"Number has been found! Number was: {selected_number}\")) # print success message \n",
    "        number_found = True # meet conditon \n",
    "    elif user_input > selected_number: # if greater\n",
    "        print(\"Entered number is ABOVE than the number I am thinking of...\")\n",
    "    else: # if less than\n",
    "        print(\"Entered number is BELOW than the number I am thinking of...\")"
   ]
  }
 ],
 "metadata": {
  "kernelspec": {
   "display_name": "Python 3",
   "language": "python",
   "name": "python3"
  },
  "language_info": {
   "codemirror_mode": {
    "name": "ipython",
    "version": 3
   },
   "file_extension": ".py",
   "mimetype": "text/x-python",
   "name": "python",
   "nbconvert_exporter": "python",
   "pygments_lexer": "ipython3",
   "version": "3.11.9"
  }
 },
 "nbformat": 4,
 "nbformat_minor": 5
}
