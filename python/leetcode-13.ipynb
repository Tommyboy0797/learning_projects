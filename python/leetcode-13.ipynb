{
 "cells": [
  {
   "cell_type": "code",
   "execution_count": null,
   "id": "e0fb53d6",
   "metadata": {},
   "outputs": [
    {
     "data": {
      "text/plain": [
       "1994"
      ]
     },
     "execution_count": 53,
     "metadata": {},
     "output_type": "execute_result"
    }
   ],
   "source": [
    "ROMAN_NUMERALS = { # dictionary of all roman numerals and their assigned values that I will use\n",
    "    \"I\": 1,\n",
    "    \"V\": 5,\n",
    "    \"X\": 10,\n",
    "    \"L\": 50,\n",
    "    \"C\": 100,\n",
    "    \"D\": 500,\n",
    "    \"M\": 1000\n",
    "\n",
    "}\n",
    "\n",
    "\n",
    "def roman_to_number(roman_str):\n",
    "\n",
    "    skip_next = False\n",
    "\n",
    "    value = 0\n",
    "\n",
    "    if len(roman_str) >= 15:\n",
    "        return False\n",
    "    \n",
    "    for i, char in enumerate(roman_str): # i is the index, char is current character\n",
    "\n",
    "        if skip_next:\n",
    "            skip_next = False\n",
    "            continue\n",
    "\n",
    "        if char not in ROMAN_NUMERALS: # check that the roman numerals are all valid\n",
    "            print(f\"Roman Numeral {roman_str} contains non roman numeral value {char}\") # let the user know if not\n",
    "            \n",
    "\n",
    "        if i + 1 < len(roman_str) and ROMAN_NUMERALS[roman_str[i+1]] > ROMAN_NUMERALS[char]: # checks the 2 values RATHER THAN the string values!\n",
    "            value = value + ROMAN_NUMERALS[roman_str[i+1]] - ROMAN_NUMERALS[char] # add the correct value\n",
    "            skip_next = True # already handled next char, skip! \n",
    "        else:\n",
    "            value = value + ROMAN_NUMERALS[char] # if its not a substitutive thing, just add it anyway\n",
    "\n",
    "    return value\n",
    "                    \n",
    "\n",
    "\n",
    "roman_to_number(\"MCMXCIV\")\n"
   ]
  }
 ],
 "metadata": {
  "kernelspec": {
   "display_name": "Python 3",
   "language": "python",
   "name": "python3"
  },
  "language_info": {
   "codemirror_mode": {
    "name": "ipython",
    "version": 3
   },
   "file_extension": ".py",
   "mimetype": "text/x-python",
   "name": "python",
   "nbconvert_exporter": "python",
   "pygments_lexer": "ipython3",
   "version": "3.11.9"
  }
 },
 "nbformat": 4,
 "nbformat_minor": 5
}
