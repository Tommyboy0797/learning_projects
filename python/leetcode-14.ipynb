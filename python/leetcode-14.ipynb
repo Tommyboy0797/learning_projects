{
 "cells": [
  {
   "cell_type": "code",
   "execution_count": null,
   "id": "ec9a4f8e",
   "metadata": {},
   "outputs": [
    {
     "name": "stdout",
     "output_type": "stream",
     "text": [
      "common prefix is: fl\n",
      "There is no common prefix among the input strings.\n",
      "common prefix is: he\n"
     ]
    }
   ],
   "source": [
    "def longest_common_prefix(words):\n",
    "    prefixes = [] # empty array of prefixes\n",
    "\n",
    "    for word in words:\n",
    "        prefixes.append(word[:2]) # add the prefixes to the array\n",
    "\n",
    "    result = all(word == prefixes[0] for word in prefixes) # checks if all the items in the array are the same, returns true or false\n",
    "\n",
    "    if result == True:\n",
    "        print(f\"common prefix is: {prefixes[0]}\") # outputs\n",
    "    else:\n",
    "        print(\"There is no common prefix among the input strings.\")\n",
    "    return \n",
    "\n",
    "longest_common_prefix([\"flower\", \"flow\", \"florence\"])\n",
    "longest_common_prefix([\"oor\", \"elow\", \"florence\"])\n",
    "longest_common_prefix([\"hey\", \"hello\", \"help\"])"
   ]
  }
 ],
 "metadata": {
  "kernelspec": {
   "display_name": "Python 3",
   "language": "python",
   "name": "python3"
  },
  "language_info": {
   "codemirror_mode": {
    "name": "ipython",
    "version": 3
   },
   "file_extension": ".py",
   "mimetype": "text/x-python",
   "name": "python",
   "nbconvert_exporter": "python",
   "pygments_lexer": "ipython3",
   "version": "3.11.9"
  }
 },
 "nbformat": 4,
 "nbformat_minor": 5
}
